{
 "cells": [
  {
   "cell_type": "code",
   "execution_count": 1,
   "metadata": {},
   "outputs": [],
   "source": [
    "from google.cloud import language\n",
    "from google.cloud.language import enums\n",
    "from google.cloud.language import types\n",
    "import six\n",
    "\n",
    "# Instantiates a client\n",
    "client = language.LanguageServiceClient()"
   ]
  },
  {
   "cell_type": "code",
   "execution_count": 4,
   "metadata": {},
   "outputs": [],
   "source": [
    "### CLASSIFY TEXT BY TOPIC\n",
    "def classify_text(text):\n",
    "    \"\"\"Classifies content categories of the provided text.\"\"\"\n",
    "    client = language.LanguageServiceClient()\n",
    "\n",
    "    if isinstance(text, six.binary_type):\n",
    "        text = text.decode('utf-8')\n",
    "\n",
    "    document = types.Document(\n",
    "        content=text.encode('utf-8'),\n",
    "        type=enums.Document.Type.PLAIN_TEXT)\n",
    "\n",
    "    categories = client.classify_text(document).categories\n",
    "\n",
    "    for category in categories:\n",
    "        print(u'=' * 20)\n",
    "        print(u'{:<16}: {}'.format('name', category.name))\n",
    "        print(u'{:<16}: {}'.format('confidence', category.confidence))\n"
   ]
  },
  {
   "cell_type": "code",
   "execution_count": 5,
   "metadata": {},
   "outputs": [
    {
     "name": "stdout",
     "output_type": "stream",
     "text": [
      "====================\n",
      "name            : /Finance/Investing/Currencies & Foreign Exchange\n",
      "confidence      : 0.9800000190734863\n"
     ]
    }
   ],
   "source": [
    "classify_text(\"\"\"Jeet Singh, a cryptocurrency portfolio manager for the last six years, says it is common for virtual currencies to fluctuate by 70 or 80 percent.\n",
    "\n",
    "Speaking at the World Economic Forum in Davos, he compared cryptocurrencies such as bitcoin and Ripple to early tech giants like Microsoft.\n",
    "\n",
    "He said: \"If you look at Microsoft or Apple, when they went public their stocks were very volatile because the market wasn’t mature.\"\n",
    "\n",
    "The volatility of the market may have worried newer cryptocurrency traders, but long-time investors are less concerned, as they are used to some fluctuations, Mr Singh explained.\n",
    "\n",
    "\"\"\")"
   ]
  },
  {
   "cell_type": "code",
   "execution_count": 6,
   "metadata": {},
   "outputs": [
    {
     "name": "stdout",
     "output_type": "stream",
     "text": [
      "Text: Hello World!\n",
      "Sentiment: 0.20000000298023224, 0.20000000298023224\n"
     ]
    }
   ],
   "source": [
    "### SENTIMENT ANALYSIS\n",
    "# The text to analyze\n",
    "text = u\"Hello World!\"\n",
    "document = types.Document(\n",
    "    content=text,\n",
    "    type=enums.Document.Type.PLAIN_TEXT)\n",
    "\n",
    "# Detects the sentiment of the text\n",
    "sentiment = client.analyze_sentiment(document=document).document_sentiment\n",
    "\n",
    "print('Text: {}'.format(text))\n",
    "print('Sentiment: {}, {}'.format(sentiment.score, sentiment.magnitude))\n"
   ]
  },
  {
   "cell_type": "code",
   "execution_count": null,
   "metadata": {},
   "outputs": [],
   "source": []
  }
 ],
 "metadata": {
  "kernelspec": {
   "display_name": "Python 3",
   "language": "python",
   "name": "python3"
  },
  "language_info": {
   "codemirror_mode": {
    "name": "ipython",
    "version": 3
   },
   "file_extension": ".py",
   "mimetype": "text/x-python",
   "name": "python",
   "nbconvert_exporter": "python",
   "pygments_lexer": "ipython3",
   "version": "3.6.3"
  }
 },
 "nbformat": 4,
 "nbformat_minor": 2
}
