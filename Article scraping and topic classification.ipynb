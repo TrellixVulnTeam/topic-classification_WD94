{
 "cells": [
  {
   "cell_type": "markdown",
   "metadata": {},
   "source": [
    "## Article extraction, topic classification and database "
   ]
  },
  {
   "cell_type": "code",
   "execution_count": 1,
   "metadata": {
    "collapsed": true
   },
   "outputs": [],
   "source": [
    "# How to run virtualenv with jupyter notebook for the purposes of gcloud api\n",
    "# first install virtualenv, create and switch to env\n",
    "# pip install ipykernel\n",
    "# python -m ipykernel install --user --name=my-virtualenv-name\n",
    "# when inside ipynb, change kernel to desired env"
   ]
  },
  {
   "cell_type": "code",
   "execution_count": 2,
   "metadata": {
    "collapsed": true,
    "scrolled": true
   },
   "outputs": [],
   "source": [
    "# classification on test paragraph\n",
    "#text = \"Late last month, a new bistro bar and restaurant concept by the name of Escobar opened its doors at China Square Central. In case you don’t know by its name already, it’s a bar with a theme that revolves around everything Pablo Escobar, the real-life Colombian drug lord who enjoyed a recent resurgence in popularity thanks to beloved Netflix series Narcos. But with murals dedicated to The King of Cocaine and a themed menu with offerings such as “Stab in Your Heart burger” and “Don Corleone” pizza, one would wonder if it’s problematic to celebrate a narcoterrorist who was responsible for thousands of deaths and turned Colombia into the murder capital of the world during the height of his power.\"\n",
    "#classify(text)"
   ]
  },
  {
   "cell_type": "code",
   "execution_count": 3,
   "metadata": {
    "collapsed": true
   },
   "outputs": [],
   "source": [
    "# newspaper api for article scraping\n",
    "from newspaper import Article"
   ]
  },
  {
   "cell_type": "code",
   "execution_count": 4,
   "metadata": {},
   "outputs": [],
   "source": [
    "#url = input()\n",
    "#article = Article(url)\n",
    "#article.download()\n",
    "#article.parse()\n",
    "#article.authors\n",
    "#article.publish_date\n",
    "#article.text"
   ]
  },
  {
   "cell_type": "code",
   "execution_count": 5,
   "metadata": {},
   "outputs": [],
   "source": [
    "#article.text"
   ]
  },
  {
   "cell_type": "code",
   "execution_count": 6,
   "metadata": {},
   "outputs": [],
   "source": [
    "import snippets\n",
    "#catlist = snippets.classify_text(article.text)"
   ]
  },
  {
   "cell_type": "code",
   "execution_count": 7,
   "metadata": {},
   "outputs": [],
   "source": [
    "#entlist = snippets.entities_text(article.text)"
   ]
  },
  {
   "cell_type": "code",
   "execution_count": 8,
   "metadata": {},
   "outputs": [
    {
     "data": {
      "text/plain": [
       "<sqlite3.Cursor at 0x208bb404ab0>"
      ]
     },
     "execution_count": 8,
     "metadata": {},
     "output_type": "execute_result"
    }
   ],
   "source": [
    "# SQL Initialisation\n",
    "import sqlite3\n",
    "connection = sqlite3.connect('data.db')\n",
    "cursor = connection.cursor()\n",
    "cursor.execute('DROP TABLE data;') # DELETES TABLE \n",
    "cursor.execute('CREATE TABLE data (url VARCHAR PRIMARY KEY, category VARCHAR, author VARCHAR);')"
   ]
  },
  {
   "cell_type": "code",
   "execution_count": 9,
   "metadata": {},
   "outputs": [],
   "source": [
    "def write(url, category,author):\n",
    "    cursor.execute('''INSERT INTO data (url,category,author) VALUES ('{}','{}','{}')'''.format(url,category,author))\n",
    "    connection.commit()"
   ]
  },
  {
   "cell_type": "code",
   "execution_count": 10,
   "metadata": {},
   "outputs": [],
   "source": [
    "def fetch():\n",
    "    cursor.execute('SELECT * FROM DATA;')\n",
    "    result = cursor.fetchall()\n",
    "    for r in result:\n",
    "        print(r)"
   ]
  },
  {
   "cell_type": "code",
   "execution_count": 11,
   "metadata": {
    "collapsed": true
   },
   "outputs": [],
   "source": [
    "url_list = ['https://mothership.sg/2018/02/changi-airport-crash-flight-delay/',\n",
    "           'https://mothership.sg/2018/02/16-years-on-super-brainy-ex-beauty-queen-nuraliza-osman-strives-to-harness-her-enduring-star-power-for-good/',\n",
    "           'https://mothership.sg/2018/02/lee-kuan-yew-told-judges-to-ignore-mp-letters/',\n",
    "           'https://mothership.sg/2018/02/public-apology-scandalise-court-chc-meme/',\n",
    "           'https://mothership.sg/2018/02/singapore-china-chang-wanquan-bromance-ng-eng-hen/',\n",
    "           'https://mothership.sg/2018/02/wrestle-shirtless-mma/',\n",
    "           'https://mothership.sg/2018/02/sias-first-boeing-787-10-will-be-flying-to-osaka-japan-in-may-2018/'\n",
    "            ]"
   ]
  },
  {
   "cell_type": "code",
   "execution_count": 12,
   "metadata": {
    "collapsed": true
   },
   "outputs": [],
   "source": [
    "def main():\n",
    "    for url in url_list:\n",
    "        article = Article(url)\n",
    "        article.download()\n",
    "        article.parse()\n",
    "        catlist = snippets.classify_text(article.text)\n",
    "        author = article.authors[0]\n",
    "        write(url, catlist[1:], author)\n",
    "\n",
    "    fetch()"
   ]
  },
  {
   "cell_type": "code",
   "execution_count": 13,
   "metadata": {},
   "outputs": [
    {
     "name": "stdout",
     "output_type": "stream",
     "text": [
      "('https://mothership.sg/2018/02/changi-airport-crash-flight-delay/', 'Travel/Air Travel', 'Belmont Lay')\n",
      "('https://mothership.sg/2018/02/16-years-on-super-brainy-ex-beauty-queen-nuraliza-osman-strives-to-harness-her-enduring-star-power-for-good/', 'Beauty & Fitness/Beauty Pageants', 'Tanya Ong')\n",
      "('https://mothership.sg/2018/02/lee-kuan-yew-told-judges-to-ignore-mp-letters/', 'News/Politics', 'Jeanette Tan')\n",
      "('https://mothership.sg/2018/02/public-apology-scandalise-court-chc-meme/', 'News/Politics', 'Belmont Lay')\n",
      "('https://mothership.sg/2018/02/singapore-china-chang-wanquan-bromance-ng-eng-hen/', 'Law & Government/Government', 'Chan Cheow Pong')\n",
      "('https://mothership.sg/2018/02/wrestle-shirtless-mma/', 'Arts & Entertainment/Humor', 'Mandy How')\n",
      "('https://mothership.sg/2018/02/sias-first-boeing-787-10-will-be-flying-to-osaka-japan-in-may-2018/', 'Travel/Air Travel', 'Kayla Wong')\n"
     ]
    }
   ],
   "source": [
    "main()"
   ]
  },
  {
   "cell_type": "code",
   "execution_count": null,
   "metadata": {
    "collapsed": true
   },
   "outputs": [],
   "source": []
  }
 ],
 "metadata": {
  "kernelspec": {
   "display_name": "topic",
   "language": "python",
   "name": "topic"
  },
  "language_info": {
   "codemirror_mode": {
    "name": "ipython",
    "version": 3
   },
   "file_extension": ".py",
   "mimetype": "text/x-python",
   "name": "python",
   "nbconvert_exporter": "python",
   "pygments_lexer": "ipython3",
   "version": "3.5.3"
  }
 },
 "nbformat": 4,
 "nbformat_minor": 2
}
